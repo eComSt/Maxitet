{
 "cells": [
  {
   "cell_type": "code",
   "execution_count": 1,
   "id": "f10257ac",
   "metadata": {},
   "outputs": [
    {
     "name": "stdout",
     "output_type": "stream",
     "text": [
      "[]\n"
     ]
    }
   ],
   "source": [
    "lst = []\n",
    "print(lst)"
   ]
  },
  {
   "cell_type": "code",
   "execution_count": null,
   "id": "ff8c7c45",
   "metadata": {},
   "outputs": [
    {
     "name": "stdout",
     "output_type": "stream",
     "text": [
      "['x', 'c', 'f', 'd', 'x', 'c', 'g', 'z', 'x', 'c', 'v']\n"
     ]
    }
   ],
   "source": [
    "lst = list()\n",
    "print(lst)"
   ]
  },
  {
   "cell_type": "code",
   "execution_count": 12,
   "id": "d353ca0f",
   "metadata": {},
   "outputs": [
    {
     "name": "stdout",
     "output_type": "stream",
     "text": [
      "[1, 2, 'three', 4, True, False, 2.14, 42]\n"
     ]
    }
   ],
   "source": [
    "a = 42\n",
    "lst = [1, 2, 'three', 4, True, False, 2.14, a]\n",
    "lst[-1] = 42\n",
    "print(lst)"
   ]
  },
  {
   "cell_type": "code",
   "execution_count": 14,
   "id": "ac60f6a0",
   "metadata": {},
   "outputs": [
    {
     "name": "stdout",
     "output_type": "stream",
     "text": [
      "1 <class 'int'>\n",
      "2 <class 'int'>\n",
      "three <class 'str'>\n",
      "4 <class 'int'>\n",
      "True <class 'bool'>\n",
      "False <class 'bool'>\n",
      "2.14 <class 'float'>\n",
      "42 <class 'int'>\n"
     ]
    }
   ],
   "source": [
    "for i in lst:\n",
    "    print(i, type(i))"
   ]
  },
  {
   "cell_type": "code",
   "execution_count": 15,
   "id": "c5f983b1",
   "metadata": {},
   "outputs": [
    {
     "name": "stdout",
     "output_type": "stream",
     "text": [
      "8\n"
     ]
    }
   ],
   "source": [
    "print(len(lst))"
   ]
  },
  {
   "cell_type": "code",
   "execution_count": 17,
   "id": "67a1a067",
   "metadata": {},
   "outputs": [
    {
     "name": "stdout",
     "output_type": "stream",
     "text": [
      "1 1 <class 'int'>\n",
      "2 2 <class 'int'>\n",
      "3 three <class 'str'>\n",
      "4 4 <class 'int'>\n",
      "5 True <class 'bool'>\n",
      "6 False <class 'bool'>\n",
      "7 2.14 <class 'float'>\n",
      "8 42 <class 'int'>\n"
     ]
    }
   ],
   "source": [
    "for i in range(len(lst)):\n",
    "    print(i+1,lst[i], type(lst[i]))"
   ]
  },
  {
   "cell_type": "code",
   "execution_count": 19,
   "id": "6f912d2e",
   "metadata": {},
   "outputs": [
    {
     "name": "stdout",
     "output_type": "stream",
     "text": [
      "1 1 <class 'int'>\n",
      "2 2 <class 'int'>\n",
      "3 three <class 'str'>\n",
      "4 4 <class 'int'>\n",
      "5 True <class 'bool'>\n",
      "6 False <class 'bool'>\n",
      "7 2.14 <class 'float'>\n",
      "8 42 <class 'int'>\n"
     ]
    }
   ],
   "source": [
    "for num, val in enumerate(lst):\n",
    "    print(num+1, val, type(val))"
   ]
  },
  {
   "cell_type": "code",
   "execution_count": null,
   "id": "e215d243",
   "metadata": {},
   "outputs": [
    {
     "name": "stdout",
     "output_type": "stream",
     "text": [
      "[1, 2, 'three', 4, True, False, 2.14, 42]\n"
     ]
    }
   ],
   "source": [
    "print(lst)\n",
    "lst.append('POMIDORI')\n"
   ]
  },
  {
   "cell_type": "code",
   "execution_count": 23,
   "id": "d8e426f1",
   "metadata": {},
   "outputs": [
    {
     "name": "stdout",
     "output_type": "stream",
     "text": [
      "[1, 'CUCUMBERS', 2, 'three', 4, True, False, 2.14, 42, 'POMIDORI']\n"
     ]
    }
   ],
   "source": [
    "lst.insert(1,'CUCUMBERS')\n",
    "print(lst)"
   ]
  },
  {
   "cell_type": "code",
   "execution_count": 24,
   "id": "13b153a5",
   "metadata": {},
   "outputs": [
    {
     "name": "stdout",
     "output_type": "stream",
     "text": [
      "['CUCUMBERS', 2, 'three', 4, True, False, 2.14, 42, 'POMIDORI']\n"
     ]
    }
   ],
   "source": [
    "lst.remove(1)\n",
    "print(lst)"
   ]
  },
  {
   "cell_type": "code",
   "execution_count": 25,
   "id": "334fb667",
   "metadata": {},
   "outputs": [
    {
     "name": "stdout",
     "output_type": "stream",
     "text": [
      "['CUCUMBERS', 'three', 4, True, False, 2.14, 42, 'POMIDORI']\n"
     ]
    }
   ],
   "source": [
    "del lst[1]\n",
    "print(lst)"
   ]
  },
  {
   "cell_type": "code",
   "execution_count": 26,
   "id": "a7c21c8b",
   "metadata": {},
   "outputs": [
    {
     "name": "stdout",
     "output_type": "stream",
     "text": [
      "BUY\n"
     ]
    }
   ],
   "source": [
    "for i in lst:\n",
    "    if i == 'POMIDORI':\n",
    "        print('BUY')"
   ]
  },
  {
   "cell_type": "code",
   "execution_count": 28,
   "id": "51a29d72",
   "metadata": {},
   "outputs": [
    {
     "name": "stdout",
     "output_type": "stream",
     "text": [
      "go away\n"
     ]
    }
   ],
   "source": [
    "if 'pineapple' in lst:\n",
    "    print('BUY')\n",
    "else:\n",
    "    print('go away')"
   ]
  },
  {
   "cell_type": "code",
   "execution_count": 29,
   "id": "9296afef",
   "metadata": {},
   "outputs": [
    {
     "name": "stdout",
     "output_type": "stream",
     "text": [
      "[1, 2, 3, 3, 4, 5]\n"
     ]
    }
   ],
   "source": [
    "lst = [1,2,3]\n",
    "lst2 = [3,4,5]\n",
    "lst_new = lst + lst2\n",
    "print(lst_new)"
   ]
  },
  {
   "cell_type": "code",
   "execution_count": 33,
   "id": "2cf9c7de",
   "metadata": {},
   "outputs": [
    {
     "name": "stdout",
     "output_type": "stream",
     "text": [
      "[1, 2, 3, 3, 4, 5]\n"
     ]
    }
   ],
   "source": [
    "lst = [1,2,3]\n",
    "lst2 = [3,4,5]\n",
    "lst.extend(lst2)\n",
    "print(lst)"
   ]
  },
  {
   "cell_type": "code",
   "execution_count": 35,
   "id": "f0e87cfd",
   "metadata": {},
   "outputs": [
    {
     "name": "stdout",
     "output_type": "stream",
     "text": [
      "range(3, 11, 2)\n"
     ]
    }
   ],
   "source": [
    "print(range(3, 11, 2))"
   ]
  },
  {
   "cell_type": "code",
   "execution_count": null,
   "id": "02e67698",
   "metadata": {},
   "outputs": [
    {
     "name": "stdout",
     "output_type": "stream",
     "text": [
      "[1, 2, 2, 3, 3.14, 4, 5, 7, 14, 42, 78]\n"
     ]
    }
   ],
   "source": [
    "lst = [1,4,2,7,3,78,42,5,2,3.14,14]\n",
    "lst.sort()\n",
    "print(lst)"
   ]
  },
  {
   "cell_type": "code",
   "execution_count": 37,
   "id": "b606673f",
   "metadata": {},
   "outputs": [
    {
     "name": "stdout",
     "output_type": "stream",
     "text": [
      "[78, 42, 14, 7, 5, 4, 3.14, 3, 2, 2, 1]\n"
     ]
    }
   ],
   "source": [
    "lst = [1,4,2,7,3,78,42,5,2,3.14,14]\n",
    "lst.sort(reverse=True)\n",
    "print(lst)"
   ]
  },
  {
   "cell_type": "code",
   "execution_count": 39,
   "id": "454753bc",
   "metadata": {},
   "outputs": [
    {
     "name": "stdout",
     "output_type": "stream",
     "text": [
      "[1, 4, 2, 7, 3, 78, 42, 5, 2, 3.14, 14]\n",
      "[78, 42, 14, 7, 5, 4, 3.14, 3, 2, 2, 1]\n"
     ]
    }
   ],
   "source": [
    "lst = [1,4,2,7,3,78,42,5,2,3.14,14]\n",
    "lst2 = sorted(lst, reverse=True)\n",
    "print(lst)\n",
    "print(lst2)"
   ]
  },
  {
   "cell_type": "code",
   "execution_count": null,
   "id": "bcea6d7f",
   "metadata": {},
   "outputs": [
    {
     "name": "stdout",
     "output_type": "stream",
     "text": [
      "[14, 3.14, 2, 5, 42, 78, 3, 7, 2, 4, 1]\n"
     ]
    }
   ],
   "source": [
    "lst = [1,4,2,7,3,78,42,5,2,3.14,14]\n",
    "lst.reverse()\n",
    "print(lst)\n"
   ]
  },
  {
   "cell_type": "code",
   "execution_count": 42,
   "id": "41c2e425",
   "metadata": {},
   "outputs": [
    {
     "name": "stdout",
     "output_type": "stream",
     "text": [
      "14\n",
      "[1, 4, 2, 7, 3, 78, 42, 5, 2, 3.14]\n"
     ]
    }
   ],
   "source": [
    "lst = [1,4,2,7,3,78,42,5,2,3.14,14]\n",
    "element=lst.pop()\n",
    "print(element)\n",
    "print(lst)"
   ]
  }
 ],
 "metadata": {
  "kernelspec": {
   "display_name": "Python 3",
   "language": "python",
   "name": "python3"
  },
  "language_info": {
   "codemirror_mode": {
    "name": "ipython",
    "version": 3
   },
   "file_extension": ".py",
   "mimetype": "text/x-python",
   "name": "python",
   "nbconvert_exporter": "python",
   "pygments_lexer": "ipython3",
   "version": "3.13.3"
  }
 },
 "nbformat": 4,
 "nbformat_minor": 5
}
